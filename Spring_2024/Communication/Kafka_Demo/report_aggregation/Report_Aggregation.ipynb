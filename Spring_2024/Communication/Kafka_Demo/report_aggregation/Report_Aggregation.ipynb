{
 "cells": [
  {
   "cell_type": "markdown",
   "source": [
    "# Report Aggregation"
   ],
   "metadata": {
    "collapsed": false
   }
  },
  {
   "cell_type": "code",
   "execution_count": 1,
   "outputs": [],
   "source": [
    "import os\n",
    "import pandas as pd\n",
    "import altair as alt\n",
    "\n",
    "from dotenv import load_dotenv\n",
    "from pymongo import MongoClient"
   ],
   "metadata": {
    "collapsed": false
   }
  },
  {
   "cell_type": "code",
   "execution_count": 2,
   "metadata": {
    "collapsed": true
   },
   "outputs": [],
   "source": [
    "def connect_to_mongodb(collection_name, secrets_path: str = os.path.join('.', 'secrets.env')):\n",
    "    load_dotenv(secrets_path)  # Take environment variables from .env\n",
    "\n",
    "    # Provide the mongodb atlas url to connect python to mongodb using pymongo\n",
    "    connection_string = os.getenv(\"CONNECTION_STRING\")\n",
    "    # Create a connection using MongoClient. You can import MongoClient or use pymongo.MongoClient\n",
    "    client = MongoClient(connection_string)\n",
    "    collection = client[os.getenv(\"DB_NAME\")][collection_name]\n",
    "\n",
    "    return client, collection"
   ]
  },
  {
   "cell_type": "code",
   "execution_count": 3,
   "outputs": [],
   "source": [
    "def get_experiment_results(experiment_name, save_locally: bool = True):\n",
    "    results_path = os.path.join('..', 'results', experiment_name)\n",
    "    if save_locally:\n",
    "        client, collection = connect_to_mongodb(experiment_name)\n",
    "        cursor = collection.find({})\n",
    "\n",
    "        records = []\n",
    "        for record in cursor:\n",
    "            del record['_id']\n",
    "            records.append(record)\n",
    "\n",
    "        exp_results_df = pd.DataFrame(records)\n",
    "        os.makedirs(results_path, exist_ok=True)\n",
    "        exp_results_df.to_csv(os.path.join(results_path, 'exp_results.csv'), index=False)\n",
    "\n",
    "    return pd.read_csv(os.path.join(results_path, 'exp_results.csv'))"
   ],
   "metadata": {
    "collapsed": false
   }
  },
  {
   "cell_type": "markdown",
   "source": [
    "## Read experiment results from the MongoDB"
   ],
   "metadata": {
    "collapsed": false
   }
  },
  {
   "cell_type": "code",
   "execution_count": 4,
   "outputs": [],
   "source": [
    "EXPERIMENT_FOLDER_NAME = 'experiment_1'"
   ],
   "metadata": {
    "collapsed": false
   }
  },
  {
   "cell_type": "code",
   "execution_count": 5,
   "outputs": [],
   "source": [
    "# exp_results_df = get_experiment_results(EXPERIMENT_FOLDER_NAME, save_locally=True)\n",
    "exp_results_df = get_experiment_results(EXPERIMENT_FOLDER_NAME, save_locally=False)  # to reproduce results"
   ],
   "metadata": {
    "collapsed": false
   }
  },
  {
   "cell_type": "code",
   "execution_count": 6,
   "outputs": [],
   "source": [
    "exp_results_df['sending_datetime'] = pd.to_datetime(exp_results_df['sending_datetime'], format=\"%d-%m-%Y, %H:%M:%S.%f\")\n",
    "exp_results_df['processing_datetime'] = pd.to_datetime(exp_results_df['processing_datetime'], format=\"%d-%m-%Y, %H:%M:%S.%f\")"
   ],
   "metadata": {
    "collapsed": false
   }
  },
  {
   "cell_type": "code",
   "execution_count": 7,
   "outputs": [
    {
     "data": {
      "text/plain": "   reddit_id           sending_datetime        processing_datetime  \\\n0       2832 2023-08-19 15:38:30.472318 2023-08-19 15:38:31.512748   \n1       2833 2023-08-19 15:38:30.508985 2023-08-19 15:38:32.577785   \n2       2832 2023-08-19 15:38:30.512244 2023-08-19 15:38:33.585153   \n3       2832 2023-08-19 15:38:30.514797 2023-08-19 15:38:34.599989   \n4       2831 2023-08-19 15:38:30.517096 2023-08-19 15:38:35.617617   \n5       2830 2023-08-19 15:38:30.519552 2023-08-19 15:38:36.631708   \n6       2830 2023-08-19 15:38:30.522444 2023-08-19 15:38:37.645585   \n7       2829 2023-08-19 15:38:30.525101 2023-08-19 15:38:38.660138   \n8       2829 2023-08-19 15:38:30.527539 2023-08-19 15:38:39.673661   \n9       2828 2023-08-19 15:38:30.529833 2023-08-19 15:38:40.688414   \n\n   size_in_mb      configuration                         consumer_uuid  \\\n0    0.000343  prod1_part1_cons1  02e5cf2b-e4b7-40e8-9d67-3daf1fb96c9b   \n1    0.000343  prod1_part1_cons1  02e5cf2b-e4b7-40e8-9d67-3daf1fb96c9b   \n2    0.000343  prod1_part1_cons1  02e5cf2b-e4b7-40e8-9d67-3daf1fb96c9b   \n3    0.000343  prod1_part1_cons1  02e5cf2b-e4b7-40e8-9d67-3daf1fb96c9b   \n4    0.000343  prod1_part1_cons1  02e5cf2b-e4b7-40e8-9d67-3daf1fb96c9b   \n5    0.000343  prod1_part1_cons1  02e5cf2b-e4b7-40e8-9d67-3daf1fb96c9b   \n6    0.000343  prod1_part1_cons1  02e5cf2b-e4b7-40e8-9d67-3daf1fb96c9b   \n7    0.000343  prod1_part1_cons1  02e5cf2b-e4b7-40e8-9d67-3daf1fb96c9b   \n8    0.000343  prod1_part1_cons1  02e5cf2b-e4b7-40e8-9d67-3daf1fb96c9b   \n9    0.000343  prod1_part1_cons1  02e5cf2b-e4b7-40e8-9d67-3daf1fb96c9b   \n\n   processing_time  \n0         1.040430  \n1         2.068800  \n2         3.072909  \n3         4.085192  \n4         5.100521  \n5         6.112156  \n6         7.123141  \n7         8.135037  \n8         9.146122  \n9        10.158581  ",
      "text/html": "<div>\n<style scoped>\n    .dataframe tbody tr th:only-of-type {\n        vertical-align: middle;\n    }\n\n    .dataframe tbody tr th {\n        vertical-align: top;\n    }\n\n    .dataframe thead th {\n        text-align: right;\n    }\n</style>\n<table border=\"1\" class=\"dataframe\">\n  <thead>\n    <tr style=\"text-align: right;\">\n      <th></th>\n      <th>reddit_id</th>\n      <th>sending_datetime</th>\n      <th>processing_datetime</th>\n      <th>size_in_mb</th>\n      <th>configuration</th>\n      <th>consumer_uuid</th>\n      <th>processing_time</th>\n    </tr>\n  </thead>\n  <tbody>\n    <tr>\n      <th>0</th>\n      <td>2832</td>\n      <td>2023-08-19 15:38:30.472318</td>\n      <td>2023-08-19 15:38:31.512748</td>\n      <td>0.000343</td>\n      <td>prod1_part1_cons1</td>\n      <td>02e5cf2b-e4b7-40e8-9d67-3daf1fb96c9b</td>\n      <td>1.040430</td>\n    </tr>\n    <tr>\n      <th>1</th>\n      <td>2833</td>\n      <td>2023-08-19 15:38:30.508985</td>\n      <td>2023-08-19 15:38:32.577785</td>\n      <td>0.000343</td>\n      <td>prod1_part1_cons1</td>\n      <td>02e5cf2b-e4b7-40e8-9d67-3daf1fb96c9b</td>\n      <td>2.068800</td>\n    </tr>\n    <tr>\n      <th>2</th>\n      <td>2832</td>\n      <td>2023-08-19 15:38:30.512244</td>\n      <td>2023-08-19 15:38:33.585153</td>\n      <td>0.000343</td>\n      <td>prod1_part1_cons1</td>\n      <td>02e5cf2b-e4b7-40e8-9d67-3daf1fb96c9b</td>\n      <td>3.072909</td>\n    </tr>\n    <tr>\n      <th>3</th>\n      <td>2832</td>\n      <td>2023-08-19 15:38:30.514797</td>\n      <td>2023-08-19 15:38:34.599989</td>\n      <td>0.000343</td>\n      <td>prod1_part1_cons1</td>\n      <td>02e5cf2b-e4b7-40e8-9d67-3daf1fb96c9b</td>\n      <td>4.085192</td>\n    </tr>\n    <tr>\n      <th>4</th>\n      <td>2831</td>\n      <td>2023-08-19 15:38:30.517096</td>\n      <td>2023-08-19 15:38:35.617617</td>\n      <td>0.000343</td>\n      <td>prod1_part1_cons1</td>\n      <td>02e5cf2b-e4b7-40e8-9d67-3daf1fb96c9b</td>\n      <td>5.100521</td>\n    </tr>\n    <tr>\n      <th>5</th>\n      <td>2830</td>\n      <td>2023-08-19 15:38:30.519552</td>\n      <td>2023-08-19 15:38:36.631708</td>\n      <td>0.000343</td>\n      <td>prod1_part1_cons1</td>\n      <td>02e5cf2b-e4b7-40e8-9d67-3daf1fb96c9b</td>\n      <td>6.112156</td>\n    </tr>\n    <tr>\n      <th>6</th>\n      <td>2830</td>\n      <td>2023-08-19 15:38:30.522444</td>\n      <td>2023-08-19 15:38:37.645585</td>\n      <td>0.000343</td>\n      <td>prod1_part1_cons1</td>\n      <td>02e5cf2b-e4b7-40e8-9d67-3daf1fb96c9b</td>\n      <td>7.123141</td>\n    </tr>\n    <tr>\n      <th>7</th>\n      <td>2829</td>\n      <td>2023-08-19 15:38:30.525101</td>\n      <td>2023-08-19 15:38:38.660138</td>\n      <td>0.000343</td>\n      <td>prod1_part1_cons1</td>\n      <td>02e5cf2b-e4b7-40e8-9d67-3daf1fb96c9b</td>\n      <td>8.135037</td>\n    </tr>\n    <tr>\n      <th>8</th>\n      <td>2829</td>\n      <td>2023-08-19 15:38:30.527539</td>\n      <td>2023-08-19 15:38:39.673661</td>\n      <td>0.000343</td>\n      <td>prod1_part1_cons1</td>\n      <td>02e5cf2b-e4b7-40e8-9d67-3daf1fb96c9b</td>\n      <td>9.146122</td>\n    </tr>\n    <tr>\n      <th>9</th>\n      <td>2828</td>\n      <td>2023-08-19 15:38:30.529833</td>\n      <td>2023-08-19 15:38:40.688414</td>\n      <td>0.000343</td>\n      <td>prod1_part1_cons1</td>\n      <td>02e5cf2b-e4b7-40e8-9d67-3daf1fb96c9b</td>\n      <td>10.158581</td>\n    </tr>\n  </tbody>\n</table>\n</div>"
     },
     "execution_count": 7,
     "metadata": {},
     "output_type": "execute_result"
    }
   ],
   "source": [
    "exp_results_df['processing_time'] = (exp_results_df.processing_datetime - exp_results_df.sending_datetime).dt.total_seconds()\n",
    "exp_results_df.head(10)"
   ],
   "metadata": {
    "collapsed": false
   }
  },
  {
   "cell_type": "code",
   "execution_count": 8,
   "outputs": [],
   "source": [
    "data_for_plots_df = pd.DataFrame(columns=['configuration', 'throughput_per_sec', 'max_latency'])\n",
    "\n",
    "for config in  exp_results_df['configuration'].unique():\n",
    "    max_latency = exp_results_df[exp_results_df['configuration'] == config]['processing_time'].max()\n",
    "    total_processing_time = (\n",
    "        exp_results_df[exp_results_df['configuration'] == config]['processing_datetime'].max() -\n",
    "        exp_results_df[exp_results_df['configuration'] == config]['sending_datetime'].min()\n",
    "    ).total_seconds()\n",
    "    throughput_per_sec = exp_results_df[exp_results_df['configuration'] == config]['size_in_mb'].sum() / total_processing_time\n",
    "\n",
    "    data_for_plots_df.loc[len(data_for_plots_df.index)] = [config, throughput_per_sec, max_latency]"
   ],
   "metadata": {
    "collapsed": false
   }
  },
  {
   "cell_type": "code",
   "execution_count": 9,
   "outputs": [
    {
     "data": {
      "text/plain": "         configuration  throughput_per_sec  max_latency\n0    prod1_part1_cons1            0.000339   202.028520\n1    prod1_part1_cons2            0.000340   201.352701\n2    prod1_part2_cons2            0.000648   105.521583\n3    prod1_part5_cons5            0.001384    49.110928\n4   prod1_part10_cons1            0.000340   201.434826\n5   prod1_part10_cons5            0.001619    41.959496\n6  prod1_part10_cons10            0.002507    26.949177\n7  prod2_part10_cons10            0.002609    25.609825",
      "text/html": "<div>\n<style scoped>\n    .dataframe tbody tr th:only-of-type {\n        vertical-align: middle;\n    }\n\n    .dataframe tbody tr th {\n        vertical-align: top;\n    }\n\n    .dataframe thead th {\n        text-align: right;\n    }\n</style>\n<table border=\"1\" class=\"dataframe\">\n  <thead>\n    <tr style=\"text-align: right;\">\n      <th></th>\n      <th>configuration</th>\n      <th>throughput_per_sec</th>\n      <th>max_latency</th>\n    </tr>\n  </thead>\n  <tbody>\n    <tr>\n      <th>0</th>\n      <td>prod1_part1_cons1</td>\n      <td>0.000339</td>\n      <td>202.028520</td>\n    </tr>\n    <tr>\n      <th>1</th>\n      <td>prod1_part1_cons2</td>\n      <td>0.000340</td>\n      <td>201.352701</td>\n    </tr>\n    <tr>\n      <th>2</th>\n      <td>prod1_part2_cons2</td>\n      <td>0.000648</td>\n      <td>105.521583</td>\n    </tr>\n    <tr>\n      <th>3</th>\n      <td>prod1_part5_cons5</td>\n      <td>0.001384</td>\n      <td>49.110928</td>\n    </tr>\n    <tr>\n      <th>4</th>\n      <td>prod1_part10_cons1</td>\n      <td>0.000340</td>\n      <td>201.434826</td>\n    </tr>\n    <tr>\n      <th>5</th>\n      <td>prod1_part10_cons5</td>\n      <td>0.001619</td>\n      <td>41.959496</td>\n    </tr>\n    <tr>\n      <th>6</th>\n      <td>prod1_part10_cons10</td>\n      <td>0.002507</td>\n      <td>26.949177</td>\n    </tr>\n    <tr>\n      <th>7</th>\n      <td>prod2_part10_cons10</td>\n      <td>0.002609</td>\n      <td>25.609825</td>\n    </tr>\n  </tbody>\n</table>\n</div>"
     },
     "execution_count": 9,
     "metadata": {},
     "output_type": "execute_result"
    }
   ],
   "source": [
    "data_for_plots_df"
   ],
   "metadata": {
    "collapsed": false
   }
  },
  {
   "cell_type": "markdown",
   "source": [
    "## Visualize an average throughput of the system in Mbps"
   ],
   "metadata": {
    "collapsed": false
   }
  },
  {
   "cell_type": "code",
   "execution_count": 10,
   "outputs": [
    {
     "data": {
      "text/html": "\n<div id=\"altair-viz-27cd0b527c1b4da4bb50ab961fefbeeb\"></div>\n<script type=\"text/javascript\">\n  var VEGA_DEBUG = (typeof VEGA_DEBUG == \"undefined\") ? {} : VEGA_DEBUG;\n  (function(spec, embedOpt){\n    let outputDiv = document.currentScript.previousElementSibling;\n    if (outputDiv.id !== \"altair-viz-27cd0b527c1b4da4bb50ab961fefbeeb\") {\n      outputDiv = document.getElementById(\"altair-viz-27cd0b527c1b4da4bb50ab961fefbeeb\");\n    }\n    const paths = {\n      \"vega\": \"https://cdn.jsdelivr.net/npm//vega@5?noext\",\n      \"vega-lib\": \"https://cdn.jsdelivr.net/npm//vega-lib?noext\",\n      \"vega-lite\": \"https://cdn.jsdelivr.net/npm//vega-lite@4.17.0?noext\",\n      \"vega-embed\": \"https://cdn.jsdelivr.net/npm//vega-embed@6?noext\",\n    };\n\n    function maybeLoadScript(lib, version) {\n      var key = `${lib.replace(\"-\", \"\")}_version`;\n      return (VEGA_DEBUG[key] == version) ?\n        Promise.resolve(paths[lib]) :\n        new Promise(function(resolve, reject) {\n          var s = document.createElement('script');\n          document.getElementsByTagName(\"head\")[0].appendChild(s);\n          s.async = true;\n          s.onload = () => {\n            VEGA_DEBUG[key] = version;\n            return resolve(paths[lib]);\n          };\n          s.onerror = () => reject(`Error loading script: ${paths[lib]}`);\n          s.src = paths[lib];\n        });\n    }\n\n    function showError(err) {\n      outputDiv.innerHTML = `<div class=\"error\" style=\"color:red;\">${err}</div>`;\n      throw err;\n    }\n\n    function displayChart(vegaEmbed) {\n      vegaEmbed(outputDiv, spec, embedOpt)\n        .catch(err => showError(`Javascript Error: ${err.message}<br>This usually means there's a typo in your chart specification. See the javascript console for the full traceback.`));\n    }\n\n    if(typeof define === \"function\" && define.amd) {\n      requirejs.config({paths});\n      require([\"vega-embed\"], displayChart, err => showError(`Error loading script: ${err.message}`));\n    } else {\n      maybeLoadScript(\"vega\", \"5\")\n        .then(() => maybeLoadScript(\"vega-lite\", \"4.17.0\"))\n        .then(() => maybeLoadScript(\"vega-embed\", \"6\"))\n        .catch(showError)\n        .then(() => displayChart(vegaEmbed));\n    }\n  })({\"config\": {\"view\": {\"continuousWidth\": 400, \"continuousHeight\": 300}, \"axis\": {\"labelFontSize\": 14, \"titleFontSize\": 14}}, \"data\": {\"name\": \"data-56d58b4d55fba46e20f737fe11decf18\"}, \"mark\": \"bar\", \"encoding\": {\"x\": {\"field\": \"throughput_per_sec\", \"title\": \"Throughput in Mbps\", \"type\": \"quantitative\"}, \"y\": {\"field\": \"configuration\", \"sort\": {\"field\": \"throughput_per_sec\", \"order\": \"descending\"}, \"title\": \"Configuration\", \"type\": \"nominal\"}}, \"height\": 600, \"width\": 650, \"$schema\": \"https://vega.github.io/schema/vega-lite/v4.17.0.json\", \"datasets\": {\"data-56d58b4d55fba46e20f737fe11decf18\": [{\"configuration\": \"prod1_part1_cons1\", \"throughput_per_sec\": 0.00033905525193053893, \"max_latency\": 202.02852}, {\"configuration\": \"prod1_part1_cons2\", \"throughput_per_sec\": 0.0003401656324499003, \"max_latency\": 201.352701}, {\"configuration\": \"prod1_part2_cons2\", \"throughput_per_sec\": 0.0006476184587289104, \"max_latency\": 105.521583}, {\"configuration\": \"prod1_part5_cons5\", \"throughput_per_sec\": 0.0013835298281177858, \"max_latency\": 49.110928}, {\"configuration\": \"prod1_part10_cons1\", \"throughput_per_sec\": 0.00034011105292289906, \"max_latency\": 201.434826}, {\"configuration\": \"prod1_part10_cons5\", \"throughput_per_sec\": 0.0016190186761266172, \"max_latency\": 41.959496}, {\"configuration\": \"prod1_part10_cons10\", \"throughput_per_sec\": 0.0025074491164617588, \"max_latency\": 26.949177}, {\"configuration\": \"prod2_part10_cons10\", \"throughput_per_sec\": 0.002608926015603809, \"max_latency\": 25.609825}]}}, {\"mode\": \"vega-lite\"});\n</script>",
      "text/plain": "alt.Chart(...)"
     },
     "execution_count": 10,
     "metadata": {},
     "output_type": "execute_result"
    }
   ],
   "source": [
    "alt.Chart(data_for_plots_df).mark_bar().encode(\n",
    "    y=alt.Y(\"configuration\", type=\"nominal\", title='Configuration', sort=alt.Sort(field=\"throughput_per_sec\", order=\"descending\")),\n",
    "    x=alt.X(\"throughput_per_sec\", type='quantitative', title='Throughput in Mbps'),\n",
    ").properties(\n",
    "    width=650,\n",
    "    height=600,\n",
    ").configure_axis(\n",
    "    labelFontSize=14,\n",
    "    titleFontSize=14\n",
    ")"
   ],
   "metadata": {
    "collapsed": false
   }
  },
  {
   "cell_type": "markdown",
   "source": [
    "## Visualize a max latency of message processing"
   ],
   "metadata": {
    "collapsed": false
   }
  },
  {
   "cell_type": "code",
   "execution_count": 11,
   "outputs": [
    {
     "data": {
      "text/html": "\n<div id=\"altair-viz-316fa57a9fe8478a981a7fe223fb5a30\"></div>\n<script type=\"text/javascript\">\n  var VEGA_DEBUG = (typeof VEGA_DEBUG == \"undefined\") ? {} : VEGA_DEBUG;\n  (function(spec, embedOpt){\n    let outputDiv = document.currentScript.previousElementSibling;\n    if (outputDiv.id !== \"altair-viz-316fa57a9fe8478a981a7fe223fb5a30\") {\n      outputDiv = document.getElementById(\"altair-viz-316fa57a9fe8478a981a7fe223fb5a30\");\n    }\n    const paths = {\n      \"vega\": \"https://cdn.jsdelivr.net/npm//vega@5?noext\",\n      \"vega-lib\": \"https://cdn.jsdelivr.net/npm//vega-lib?noext\",\n      \"vega-lite\": \"https://cdn.jsdelivr.net/npm//vega-lite@4.17.0?noext\",\n      \"vega-embed\": \"https://cdn.jsdelivr.net/npm//vega-embed@6?noext\",\n    };\n\n    function maybeLoadScript(lib, version) {\n      var key = `${lib.replace(\"-\", \"\")}_version`;\n      return (VEGA_DEBUG[key] == version) ?\n        Promise.resolve(paths[lib]) :\n        new Promise(function(resolve, reject) {\n          var s = document.createElement('script');\n          document.getElementsByTagName(\"head\")[0].appendChild(s);\n          s.async = true;\n          s.onload = () => {\n            VEGA_DEBUG[key] = version;\n            return resolve(paths[lib]);\n          };\n          s.onerror = () => reject(`Error loading script: ${paths[lib]}`);\n          s.src = paths[lib];\n        });\n    }\n\n    function showError(err) {\n      outputDiv.innerHTML = `<div class=\"error\" style=\"color:red;\">${err}</div>`;\n      throw err;\n    }\n\n    function displayChart(vegaEmbed) {\n      vegaEmbed(outputDiv, spec, embedOpt)\n        .catch(err => showError(`Javascript Error: ${err.message}<br>This usually means there's a typo in your chart specification. See the javascript console for the full traceback.`));\n    }\n\n    if(typeof define === \"function\" && define.amd) {\n      requirejs.config({paths});\n      require([\"vega-embed\"], displayChart, err => showError(`Error loading script: ${err.message}`));\n    } else {\n      maybeLoadScript(\"vega\", \"5\")\n        .then(() => maybeLoadScript(\"vega-lite\", \"4.17.0\"))\n        .then(() => maybeLoadScript(\"vega-embed\", \"6\"))\n        .catch(showError)\n        .then(() => displayChart(vegaEmbed));\n    }\n  })({\"config\": {\"view\": {\"continuousWidth\": 400, \"continuousHeight\": 300}, \"axis\": {\"labelFontSize\": 14, \"titleFontSize\": 14}}, \"data\": {\"name\": \"data-56d58b4d55fba46e20f737fe11decf18\"}, \"mark\": \"bar\", \"encoding\": {\"x\": {\"field\": \"max_latency\", \"title\": \"Latency in Seconds\", \"type\": \"quantitative\"}, \"y\": {\"field\": \"configuration\", \"sort\": {\"field\": \"max_latency\", \"order\": \"ascending\"}, \"title\": \"Configuration\", \"type\": \"nominal\"}}, \"height\": 600, \"width\": 650, \"$schema\": \"https://vega.github.io/schema/vega-lite/v4.17.0.json\", \"datasets\": {\"data-56d58b4d55fba46e20f737fe11decf18\": [{\"configuration\": \"prod1_part1_cons1\", \"throughput_per_sec\": 0.00033905525193053893, \"max_latency\": 202.02852}, {\"configuration\": \"prod1_part1_cons2\", \"throughput_per_sec\": 0.0003401656324499003, \"max_latency\": 201.352701}, {\"configuration\": \"prod1_part2_cons2\", \"throughput_per_sec\": 0.0006476184587289104, \"max_latency\": 105.521583}, {\"configuration\": \"prod1_part5_cons5\", \"throughput_per_sec\": 0.0013835298281177858, \"max_latency\": 49.110928}, {\"configuration\": \"prod1_part10_cons1\", \"throughput_per_sec\": 0.00034011105292289906, \"max_latency\": 201.434826}, {\"configuration\": \"prod1_part10_cons5\", \"throughput_per_sec\": 0.0016190186761266172, \"max_latency\": 41.959496}, {\"configuration\": \"prod1_part10_cons10\", \"throughput_per_sec\": 0.0025074491164617588, \"max_latency\": 26.949177}, {\"configuration\": \"prod2_part10_cons10\", \"throughput_per_sec\": 0.002608926015603809, \"max_latency\": 25.609825}]}}, {\"mode\": \"vega-lite\"});\n</script>",
      "text/plain": "alt.Chart(...)"
     },
     "execution_count": 11,
     "metadata": {},
     "output_type": "execute_result"
    }
   ],
   "source": [
    "alt.Chart(data_for_plots_df).mark_bar().encode(\n",
    "    y=alt.Y(\"configuration\", type=\"nominal\", title='Configuration', sort=alt.Sort(field=\"max_latency\", order=\"ascending\")),\n",
    "    x=alt.X(\"max_latency\", type='quantitative', title='Latency in Seconds')\n",
    ").properties(\n",
    "    width=650,\n",
    "    height=600,\n",
    ").configure_axis(\n",
    "    labelFontSize=14,\n",
    "    titleFontSize=14\n",
    ")"
   ],
   "metadata": {
    "collapsed": false
   }
  },
  {
   "cell_type": "code",
   "execution_count": 11,
   "outputs": [],
   "source": [],
   "metadata": {
    "collapsed": false
   }
  }
 ],
 "metadata": {
  "kernelspec": {
   "display_name": "Python 3",
   "language": "python",
   "name": "python3"
  },
  "language_info": {
   "codemirror_mode": {
    "name": "ipython",
    "version": 2
   },
   "file_extension": ".py",
   "mimetype": "text/x-python",
   "name": "python",
   "nbconvert_exporter": "python",
   "pygments_lexer": "ipython2",
   "version": "2.7.6"
  }
 },
 "nbformat": 4,
 "nbformat_minor": 0
}
